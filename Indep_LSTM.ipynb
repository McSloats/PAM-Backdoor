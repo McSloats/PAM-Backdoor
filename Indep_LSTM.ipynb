{
  "nbformat": 4,
  "nbformat_minor": 0,
  "metadata": {
    "colab": {
      "name": "Copy of Project5_LSTM.ipynb",
      "provenance": [],
      "collapsed_sections": [],
      "machine_shape": "hm",
      "include_colab_link": true
    },
    "kernelspec": {
      "name": "python3",
      "display_name": "Python 3"
    }
  },
  "cells": [
    {
      "cell_type": "markdown",
      "metadata": {
        "id": "view-in-github",
        "colab_type": "text"
      },
      "source": [
        "<a href=\"https://colab.research.google.com/github/McSloats/PAM-Backdoor/blob/master/Indep_LSTM.ipynb\" target=\"_parent\"><img src=\"https://colab.research.google.com/assets/colab-badge.svg\" alt=\"Open In Colab\"/></a>"
      ]
    },
    {
      "cell_type": "code",
      "metadata": {
        "id": "IqmjxrEGLhom",
        "colab_type": "code",
        "outputId": "8d8a1765-ceed-43b2-9bd6-6402dc8d566e",
        "colab": {
          "base_uri": "https://localhost:8080/",
          "height": 34
        }
      },
      "source": [
        "from google.colab import drive\n",
        "drive.mount('/content/drive')"
      ],
      "execution_count": 8,
      "outputs": [
        {
          "output_type": "stream",
          "text": [
            "Drive already mounted at /content/drive; to attempt to forcibly remount, call drive.mount(\"/content/drive\", force_remount=True).\n"
          ],
          "name": "stdout"
        }
      ]
    },
    {
      "cell_type": "code",
      "metadata": {
        "id": "_ZlymTSwrxPE",
        "colab_type": "code",
        "colab": {
          "base_uri": "https://localhost:8080/",
          "height": 80
        },
        "outputId": "036350d8-8625-40ac-8db8-a8fed0833e53"
      },
      "source": [
        "import numpy as np\n",
        "import csv\n",
        "import pandas as pd\n",
        "from sklearn.feature_extraction.text import TfidfVectorizer\n",
        "from keras.models import Sequential\n",
        "from keras.layers import LSTM\n",
        "from keras.layers import Embedding\n",
        "from keras.layers import Dropout\n",
        "from keras.layers import Dense\n",
        "from sklearn import preprocessing\n",
        "from keras import optimizers as op\n",
        "from keras.utils import to_categorical\n",
        "from keras.models import model_from_json\n",
        "from keras.callbacks import EarlyStopping\n"
      ],
      "execution_count": 9,
      "outputs": [
        {
          "output_type": "stream",
          "text": [
            "Using TensorFlow backend.\n"
          ],
          "name": "stderr"
        },
        {
          "output_type": "display_data",
          "data": {
            "text/html": [
              "<p style=\"color: red;\">\n",
              "The default version of TensorFlow in Colab will soon switch to TensorFlow 2.x.<br>\n",
              "We recommend you <a href=\"https://www.tensorflow.org/guide/migrate\" target=\"_blank\">upgrade</a> now \n",
              "or ensure your notebook will continue to use TensorFlow 1.x via the <code>%tensorflow_version 1.x</code> magic:\n",
              "<a href=\"https://colab.research.google.com/notebooks/tensorflow_version.ipynb\" target=\"_blank\">more info</a>.</p>\n"
            ],
            "text/plain": [
              "<IPython.core.display.HTML object>"
            ]
          },
          "metadata": {
            "tags": []
          }
        }
      ]
    },
    {
      "cell_type": "code",
      "metadata": {
        "id": "CAwClx-6Dlqb",
        "colab_type": "code",
        "outputId": "140fdaac-d9a9-4106-c866-65a69aae35ee",
        "colab": {
          "base_uri": "https://localhost:8080/",
          "height": 459
        }
      },
      "source": [
        "##IMPORT FILE FOR DATA EXTRACTION\n",
        "benign = pd.read_csv(\"/content/drive/My Drive/ben.csv\", header=None, dtype=str)\n",
        "malicious = pd.read_csv(\"/content/drive/My Drive/mal.csv\", header=None, dtype=str)\n",
        "#Labels\n",
        "benign['label'] = 1\n",
        "malicious['label'] = 0\n",
        "\n",
        "#Combine\n",
        "data = [benign,malicious]\n",
        "data = pd.concat(data)\n",
        "\n",
        "#Shuffle\n",
        "data = data.sample(frac=0.080,random_state=1).reset_index(drop=True)\n",
        "\n",
        "#Remove Labels\n",
        "Y = data.iloc[:,-1]\n",
        "X = data.iloc[:,:-1]\n",
        "\n",
        "print(X)\n",
        "print(Y)"
      ],
      "execution_count": 10,
      "outputs": [
        {
          "output_type": "stream",
          "text": [
            "        0   1   2   3   4   5   6   7   8   ...  45  46  47  48  49  50  51  52  53\n",
            "0       08  00  27  b5  b7  19  00  1e  49  ...  fa  50  18  fa  9a  81  64  00  00\n",
            "1       52  54  00  12  35  02  08  00  27  ...  02  50  18  50  00  cc  ab  00  00\n",
            "2       02  1a  c5  01  00  00  02  1a  c5  ...  1f  80  10  21  f0  23  dc  00  00\n",
            "3       02  1a  c5  01  00  00  02  1a  c5  ...  f9  80  10  21  f0  17  0e  00  00\n",
            "4       ff  ff  ff  ff  ff  ff  08  00  27  ...  00  00  00  00  00  00  00  00  00\n",
            "...     ..  ..  ..  ..  ..  ..  ..  ..  ..  ...  ..  ..  ..  ..  ..  ..  ..  ..  ..\n",
            "725358  00  1e  49  db  19  c3  08  00  27  ...  ee  50  10  d8  b8  e3  e3  00  00\n",
            "725359  ff  ff  ff  ff  ff  ff  08  00  27  ...  00  00  00  00  00  00  00  00  00\n",
            "725360  02  1a  c5  01  00  00  02  1a  c5  ...  f2  80  18  49  88  4f  2e  00  00\n",
            "725361  08  00  27  fb  bb  39  52  54  00  ...  f9  50  18  ff  ff  88  cf  00  00\n",
            "725362  08  00  27  fb  bb  39  52  54  00  ...  ad  50  10  ff  ff  a1  ec  00  00\n",
            "\n",
            "[725363 rows x 54 columns]\n",
            "0         0\n",
            "1         0\n",
            "2         1\n",
            "3         1\n",
            "4         0\n",
            "         ..\n",
            "725358    0\n",
            "725359    0\n",
            "725360    1\n",
            "725361    0\n",
            "725362    0\n",
            "Name: label, Length: 725363, dtype: int64\n"
          ],
          "name": "stdout"
        }
      ]
    },
    {
      "cell_type": "code",
      "metadata": {
        "id": "UBHmrmyUNMGQ",
        "colab_type": "code",
        "colab": {
          "base_uri": "https://localhost:8080/",
          "height": 173
        },
        "outputId": "68ce7f58-dd43-415e-a3a3-734cf893c848"
      },
      "source": [
        "#Create dictionary\n",
        "dictionary = ['08', '00', '27', 'b5', 'b7', '19', '1e', '49', 'db', 'c3', '45', '2d', '34', '29', '6c', '06', 'f5', 'd7', 'b8', '9a', '84', '6a', '93', '20', '54', 'a5', '25', '05', '76', 'd9', 'fd', 'd1', '4c', '40', 'ab', 'fa', '50', '18', '81', '64', '52', '12', '35', '02', 'fb', 'bb', '39', '01', '33', '2f', '13', '80', '07', '36', '0a', '5d', 'bd', '59', '53', 'e6', 'e9', '1f', '90', '83', '61', '43', '1a', '22', 'cc', 'c5', 'dc', '5c', '9e', '79', '60', '0f', '24', '0c', '85', '10', '21', 'f0', '23', '7a', 'ef', '55', '92', '7d', '1b', 'af', '7e', 'd2', 'cd', '9f', 'f9', '17', '0e', 'ff', 'c1', '4e', 'e4', '11', 'cb', '51', '6b', '89', '3a', '4f', 'ba', '30', '2c', '75', 'f7', 'b2', '4d', '47', '31', '0d', '3d', '5e', '26', '94', '2e', 'e3', 'b0', 'fe', 'f6', '9d', 'e2', '09', '8f', '74', '7b', 'bf', 'd4', 'b1', 'bc', '8c', 'de', 'd8', '46', '0b', '82', 'b6', '3c', 'ca', '71', 'a9', '14', '8d', '98', 'e0', 'd0', 'a6', '78', '28', 'ea', 'cf', '41', '37', 'c4', 'd6', 'aa', '58', '6f', 'c0', '8a', '04', 'f8', '70', 'be', 'a7', '65', 'a4', '87', 'ed', 'c7', '68', '5b', '16', '9b', '57', 'a3', '38', '88', '9c', 'a8', '91', '69', '73', '2b', 'a0', 'ec', 'ad', '44', 'eb', '3e', '5f', '3f', 'e8', '32', '1d', '48', 'fc', '42', '8e', 'f1', '6e', '62', '1c', 'ae', '7c', 'a2', '03', 'ce', '15', 'd3', '86', 'e1', '56', '6d', '4a', '77', 'da', '67', 'e7', 'f4', 'c9', '7f', '66', 'c2', '3b', '4b', '8b', '72', '99', 'c8', 'b4', '95', '96', 'ac', 'b9', '2a', 'dd', 'df', 'c6', '97', 'f3', 'a1', '5a', 'f2', '63', 'e5', 'ee', 'b3', 'd5']\n",
        "data = []\n",
        "for row in range(0,X.shape[0]):\n",
        "  tmp = []\n",
        "  for col in range(0,X.shape[1]):\n",
        "    word = X.iloc[row][col]\n",
        "    tmp.append(dictionary.index(word))\n",
        "  data.append(tmp)\n",
        "data = np.array(data)\n",
        "print(dictionary)\n",
        "print(data)"
      ],
      "execution_count": 11,
      "outputs": [
        {
          "output_type": "stream",
          "text": [
            "['08', '00', '27', 'b5', 'b7', '19', '1e', '49', 'db', 'c3', '45', '2d', '34', '29', '6c', '06', 'f5', 'd7', 'b8', '9a', '84', '6a', '93', '20', '54', 'a5', '25', '05', '76', 'd9', 'fd', 'd1', '4c', '40', 'ab', 'fa', '50', '18', '81', '64', '52', '12', '35', '02', 'fb', 'bb', '39', '01', '33', '2f', '13', '80', '07', '36', '0a', '5d', 'bd', '59', '53', 'e6', 'e9', '1f', '90', '83', '61', '43', '1a', '22', 'cc', 'c5', 'dc', '5c', '9e', '79', '60', '0f', '24', '0c', '85', '10', '21', 'f0', '23', '7a', 'ef', '55', '92', '7d', '1b', 'af', '7e', 'd2', 'cd', '9f', 'f9', '17', '0e', 'ff', 'c1', '4e', 'e4', '11', 'cb', '51', '6b', '89', '3a', '4f', 'ba', '30', '2c', '75', 'f7', 'b2', '4d', '47', '31', '0d', '3d', '5e', '26', '94', '2e', 'e3', 'b0', 'fe', 'f6', '9d', 'e2', '09', '8f', '74', '7b', 'bf', 'd4', 'b1', 'bc', '8c', 'de', 'd8', '46', '0b', '82', 'b6', '3c', 'ca', '71', 'a9', '14', '8d', '98', 'e0', 'd0', 'a6', '78', '28', 'ea', 'cf', '41', '37', 'c4', 'd6', 'aa', '58', '6f', 'c0', '8a', '04', 'f8', '70', 'be', 'a7', '65', 'a4', '87', 'ed', 'c7', '68', '5b', '16', '9b', '57', 'a3', '38', '88', '9c', 'a8', '91', '69', '73', '2b', 'a0', 'ec', 'ad', '44', 'eb', '3e', '5f', '3f', 'e8', '32', '1d', '48', 'fc', '42', '8e', 'f1', '6e', '62', '1c', 'ae', '7c', 'a2', '03', 'ce', '15', 'd3', '86', 'e1', '56', '6d', '4a', '77', 'da', '67', 'e7', 'f4', 'c9', '7f', '66', 'c2', '3b', '4b', '8b', '72', '99', 'c8', 'b4', '95', '96', 'ac', 'b9', '2a', 'dd', 'df', 'c6', '97', 'f3', 'a1', '5a', 'f2', '63', 'e5', 'ee', 'b3', 'd5']\n",
            "[[  0   1   2 ...  39   1   1]\n",
            " [ 40  24   1 ...  34   1   1]\n",
            " [ 43  66  69 ...  70   1   1]\n",
            " ...\n",
            " [ 43  66  69 ... 122   1   1]\n",
            " [  0   1   2 ... 157   1   1]\n",
            " [  0   1   2 ... 192   1   1]]\n"
          ],
          "name": "stdout"
        }
      ]
    },
    {
      "cell_type": "code",
      "metadata": {
        "id": "fdq2zUbO6TCm",
        "colab_type": "code",
        "colab": {
          "base_uri": "https://localhost:8080/",
          "height": 197
        },
        "outputId": "1d4f8b9c-f601-455a-c9d0-5689421a4baf"
      },
      "source": [
        "with open('/content/data.txt', 'w') as f:\n",
        "    for item in data:\n",
        "        f.write(item)"
      ],
      "execution_count": 13,
      "outputs": [
        {
          "output_type": "error",
          "ename": "TypeError",
          "evalue": "ignored",
          "traceback": [
            "\u001b[0;31m---------------------------------------------------------------------------\u001b[0m",
            "\u001b[0;31mTypeError\u001b[0m                                 Traceback (most recent call last)",
            "\u001b[0;32m<ipython-input-13-f9214838d3cf>\u001b[0m in \u001b[0;36m<module>\u001b[0;34m()\u001b[0m\n\u001b[1;32m      1\u001b[0m \u001b[0;32mwith\u001b[0m \u001b[0mopen\u001b[0m\u001b[0;34m(\u001b[0m\u001b[0;34m'/content/data.txt'\u001b[0m\u001b[0;34m,\u001b[0m \u001b[0;34m'w'\u001b[0m\u001b[0;34m)\u001b[0m \u001b[0;32mas\u001b[0m \u001b[0mf\u001b[0m\u001b[0;34m:\u001b[0m\u001b[0;34m\u001b[0m\u001b[0;34m\u001b[0m\u001b[0m\n\u001b[1;32m      2\u001b[0m     \u001b[0;32mfor\u001b[0m \u001b[0mitem\u001b[0m \u001b[0;32min\u001b[0m \u001b[0mdata\u001b[0m\u001b[0;34m:\u001b[0m\u001b[0;34m\u001b[0m\u001b[0;34m\u001b[0m\u001b[0m\n\u001b[0;32m----> 3\u001b[0;31m         \u001b[0mf\u001b[0m\u001b[0;34m.\u001b[0m\u001b[0mwrite\u001b[0m\u001b[0;34m(\u001b[0m\u001b[0mitem\u001b[0m\u001b[0;34m)\u001b[0m\u001b[0;34m\u001b[0m\u001b[0;34m\u001b[0m\u001b[0m\n\u001b[0m",
            "\u001b[0;31mTypeError\u001b[0m: write() argument must be str, not numpy.ndarray"
          ]
        }
      ]
    },
    {
      "cell_type": "code",
      "metadata": {
        "id": "WArzcnLY3HGl",
        "colab_type": "code",
        "colab": {}
      },
      "source": [
        "temp_data = pd.DataFrame(data)\n",
        "temp_data = temp_data.iloc[:,[12,13,14,15,16,17,18,19,20,21,22,23,24,25,34,35,36,37,38,39,40,41,42,43,44,45,46,47,48,49,50,51,52,53]]"
      ],
      "execution_count": 0,
      "outputs": []
    },
    {
      "cell_type": "code",
      "metadata": {
        "id": "lzCeSiGMAOLZ",
        "colab_type": "code",
        "colab": {}
      },
      "source": [
        "from sklearn.model_selection import train_test_split\n",
        "x_train, x_test, y_train, y_test = train_test_split(temp_data, Y, test_size=0.2)\n",
        "y_test = to_categorical(y_test)\n",
        "y_train = to_categorical(y_train)"
      ],
      "execution_count": 0,
      "outputs": []
    },
    {
      "cell_type": "code",
      "metadata": {
        "id": "4loHIX_i2iC_",
        "colab_type": "code",
        "colab": {
          "base_uri": "https://localhost:8080/",
          "height": 255
        },
        "outputId": "005d2115-4775-4851-8764-57b4f4edb2e3"
      },
      "source": [
        "print(temp_data)"
      ],
      "execution_count": 21,
      "outputs": [
        {
          "output_type": "stream",
          "text": [
            "        12  13  14  15  16   17   18   19  ...  46  47   48   49   50   51  52  53\n",
            "0        0   1  10   1   1   11   12   13  ...  36  37   35   19   38   39   1   1\n",
            "1        0   1  10   1  47   48   49   50  ...  36  37   36    1   68   34   1   1\n",
            "2        0   1  10   1  27   70   71   72  ...  51  79   80   81   82   70   1   1\n",
            "3        0   1  10   1  27   70   83   84  ...  51  79   80   81   95   96   1   1\n",
            "4        0   1  10   1   1   99   85  100  ...   1   1    1    1    1    1   1   1\n",
            "...     ..  ..  ..  ..  ..  ...  ...  ...  ...  ..  ..  ...  ...  ...  ...  ..  ..\n",
            "725358   0   1  10   1   1  155  215  171  ...  36  79  139   18  123  123   1   1\n",
            "725359   0   1  10   1   1   99   14   48  ...   1   1    1    1    1    1   1   1\n",
            "725360   0   1  10   1  27   70   72   94  ...  51  37    7  184  107  122   1   1\n",
            "725361   0   1  10   1  27  148  106  188  ...  36  37   97   97  184  157   1   1\n",
            "725362   0   1  10   1   1  155  117  234  ...  36  79   97   97  248  192   1   1\n",
            "\n",
            "[725363 rows x 34 columns]\n"
          ],
          "name": "stdout"
        }
      ]
    },
    {
      "cell_type": "code",
      "metadata": {
        "id": "O7lvHir3r9aE",
        "colab_type": "code",
        "colab": {}
      },
      "source": [
        "def rnn(x_train, y_train, x_test, y_test, dictionary):\n",
        "    #KERAS MODEL    \n",
        "    #create model\n",
        "    model = Sequential()\n",
        "    #get number of columns in training data\n",
        "    n_cols = x_train.shape[1]\n",
        "    #add model layers\n",
        "    model.add(Embedding(len(dictionary), 64,input_length=n_cols))\n",
        "    model.add(LSTM(128,return_sequences=True))\n",
        "    model.add(Dropout(0.2))\n",
        "    model.add(LSTM(64,return_sequences=True))\n",
        "    model.add(Dropout(0.2))\n",
        "    model.add(LSTM(32))\n",
        "    model.add(Dropout(0.2))\n",
        "    model.add(Dense(2, activation='softmax'))\n",
        "   \n",
        "    #Optimizer\n",
        "    opt = op.Adam()\n",
        "    #Compile model\n",
        "    model.compile(opt, loss='binary_crossentropy', \n",
        "                  metrics=['accuracy'])\n",
        "   \n",
        "    #TRAINING\n",
        "    #Put this var in callbacks to save model after each epoch\n",
        "    #checkpointer = ModelCheckpoint('model/model-{epoch:02d}.hdf5', verbose=1)\n",
        "\n",
        "    model.fit(x_train, y_train, batch_size=256, \n",
        "              validation_split=0.2, epochs=5)\n",
        "\n",
        "    #test results\n",
        "    score = model.evaluate(x_test, y_test, verbose=0)\n",
        "    print('Test loss:', score[0])\n",
        "    print('Test accuracy:', score[1])\n",
        "\n",
        "    return model"
      ],
      "execution_count": 0,
      "outputs": []
    },
    {
      "cell_type": "code",
      "metadata": {
        "id": "KUXmAu9cEFay",
        "colab_type": "code",
        "outputId": "cc7d4f4f-9f35-4b95-b8ee-0a0bf58dc396",
        "colab": {
          "base_uri": "https://localhost:8080/",
          "height": 238
        }
      },
      "source": [
        "model = rnn(x_train, y_train, x_test, y_test, dictionary)\n"
      ],
      "execution_count": 33,
      "outputs": [
        {
          "output_type": "stream",
          "text": [
            "Train on 464232 samples, validate on 116058 samples\n",
            "Epoch 1/5\n",
            "464232/464232 [==============================] - 484s 1ms/step - loss: 0.0127 - acc: 0.9946 - val_loss: 5.0019e-04 - val_acc: 0.9998\n",
            "Epoch 2/5\n",
            "464232/464232 [==============================] - 481s 1ms/step - loss: 2.8452e-04 - acc: 0.9999 - val_loss: 6.2666e-05 - val_acc: 1.0000\n",
            "Epoch 3/5\n",
            "464232/464232 [==============================] - 479s 1ms/step - loss: 2.6313e-05 - acc: 1.0000 - val_loss: 2.3664e-06 - val_acc: 1.0000\n",
            "Epoch 4/5\n",
            "464232/464232 [==============================] - 482s 1ms/step - loss: 2.5038e-04 - acc: 0.9999 - val_loss: 1.5125e-04 - val_acc: 1.0000\n",
            "Epoch 5/5\n",
            "464232/464232 [==============================] - 481s 1ms/step - loss: 6.2934e-05 - acc: 1.0000 - val_loss: 5.7335e-07 - val_acc: 1.0000\n",
            "Test loss: 3.5069545666505397e-07\n",
            "Test accuracy: 1.0\n"
          ],
          "name": "stdout"
        }
      ]
    },
    {
      "cell_type": "code",
      "metadata": {
        "id": "8pCsV4Vmd4Yr",
        "colab_type": "code",
        "colab": {}
      },
      "source": [
        "model_json = model.to_json()\n",
        "with open(\"/content/model.json\",\"w\") as json_file:\n",
        "  json_file.write(model_json)\n",
        "model.save_weights(\"/content/model.h5\")"
      ],
      "execution_count": 0,
      "outputs": []
    }
  ]
}